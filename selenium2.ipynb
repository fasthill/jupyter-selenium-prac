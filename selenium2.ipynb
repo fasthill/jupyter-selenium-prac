{
 "cells": [
  {
   "cell_type": "code",
   "execution_count": 1,
   "id": "8d7a5f64",
   "metadata": {},
   "outputs": [],
   "source": [
    "from selenium import webdriver as wd"
   ]
  },
  {
   "cell_type": "code",
   "execution_count": 2,
   "id": "a0da47a9",
   "metadata": {},
   "outputs": [],
   "source": [
    "\n",
    "#0. 사전에 필요한 정보를 로드 => 디비 혹은 쉘, 배치 파일에서 인자로 받아서 세팅\n",
    "main_url = 'https://tour.interpark.com/'\n",
    "keyword = '로마'\n"
   ]
  },
  {
   "cell_type": "code",
   "execution_count": 3,
   "id": "ca8df593",
   "metadata": {},
   "outputs": [],
   "source": [
    "\n",
    "#1. 드라이버 로드 : ChromeDriver - WebDriver for Chrome 을 찾아 윈도우용으로 받아서 현재 폴더에 저장\n",
    "driver = wd.Chrome(executable_path='chromedriver.exe')\n",
    "# 차후 -> 옵션 부여하여 (프록시, 에이전트 조작, 이미지를 배제(속도 증가효과))\n",
    "# 크롤링을 오래 돌리면 -> temp에 임시파일들이 쌓인다! -> 템프 파일 삭제\n",
    "\n"
   ]
  },
  {
   "cell_type": "code",
   "execution_count": 4,
   "id": "cc58f954",
   "metadata": {},
   "outputs": [],
   "source": [
    "#2. 사이트 접속 (get)\n",
    "driver.get(main_url)\n"
   ]
  },
  {
   "cell_type": "code",
   "execution_count": 5,
   "id": "8c5e6477",
   "metadata": {},
   "outputs": [],
   "source": [
    "e1 = driver.find_element_by_id('SearchGNBText')"
   ]
  },
  {
   "cell_type": "code",
   "execution_count": 6,
   "id": "cdcb66ae",
   "metadata": {},
   "outputs": [],
   "source": [
    "e1.click()"
   ]
  },
  {
   "cell_type": "code",
   "execution_count": 7,
   "id": "3078ae35",
   "metadata": {},
   "outputs": [],
   "source": [
    "e1.send_keys(keyword)"
   ]
  },
  {
   "cell_type": "code",
   "execution_count": null,
   "id": "02ab43d9",
   "metadata": {},
   "outputs": [],
   "source": [
    "#3. 검색창을 찾아서 검색어를 입력\n",
    "# 여기에 대기하는 웨이트를 걸어야 함.\n",
    "# \"id : SearchGNBText\" 임을 확인 <- chrome 검사에서 확인\n",
    "driver.find_element_by_id('SearchGNBText').send_keys(keyword) # 검색단어 입력\n",
    "# 수정할 경우 => 뒤에 내용이 붙어 버림. 새로운 내용을 집어 넣고자 할때 문제 발생\n",
    "# => 그래서 .clear() 후에 -> send.keys('내용') 으로 진행해야 함.\n",
    "# driver.find_element_by_id('SearchGNBText').send_keys('파리') # 진행하면 => 검색어가 '로마파리' 진행됨.\n",
    "# driver.find_element_by_id('SearchGNBText').clear()\n",
    "# driver.find_element_by_id('SearchGNBText').send_keys('파리')\n"
   ]
  },
  {
   "cell_type": "code",
   "execution_count": 8,
   "id": "8300347a",
   "metadata": {},
   "outputs": [],
   "source": [
    "c1 = driver.find_element_by_css_selector('.search-btn')"
   ]
  },
  {
   "cell_type": "code",
   "execution_count": 9,
   "id": "19e10948",
   "metadata": {},
   "outputs": [],
   "source": [
    "c1.click()"
   ]
  },
  {
   "cell_type": "code",
   "execution_count": null,
   "id": "1bfd3e4d",
   "metadata": {},
   "outputs": [],
   "source": [
    "#4. 검색버튼을 클릭\n",
    "driver.find_element_by_css_selector('.search-btn').click() # class 명칭이 'search-btn' 인경우가 하나밖에 없어서 가능\n",
    "                                                   # 그렇지 않을 경우 'button.search-btn' 기입해야 함.\n"
   ]
  },
  {
   "cell_type": "code",
   "execution_count": 10,
   "id": "bcf177f6",
   "metadata": {},
   "outputs": [],
   "source": [
    "\n",
    "#5. 잠시 대기 => 페이지가 로드되고 나서 즉각적으로 데이터를 획들하는 행위는 자제하시기 바랍니다.\n",
    "# 참조 https://selenium-python.readthedocs.io/waits.html\n",
    "# Explicit waits: 인스턴스가 발생할 때까지 wait,\n",
    "# 화면가 화면이 넘어갈때는 반드시 사용해야 함. 페이지가 넘어갈 때는 반드시 해야 함\n",
    "# 명시적 대기 => 특정 요소가 로케이트(발견될 때까지) 대기\n",
    "# driver = webdriver.Firefox()\n",
    "# driver.get(\"http://somedomain/url_that_delays_loading\")\n",
    "# try:\n",
    "#     element = WebDriverWait(driver, 10).until(\n",
    "#         EC.presence_of_element_located((By.ID, \"myDynamicElement\"))\n",
    "#     )\n",
    "# finally:\n",
    "#     driver.quit()\n",
    "from selenium.webdriver.common.by import By\n",
    "# 명시적 대기를 위하여 아래 import\n",
    "from selenium.webdriver.support.ui import WebDriverWait\n",
    "from selenium.webdriver.support import expected_conditions as EC\n",
    "# 위 모듈 import 필요 (https://selenium-python.readthedocs.io/waits.html 에서 paste)\n",
    "try:\n",
    "    element = WebDriverWait(driver, 10).until(\n",
    "        #지정한 한 개 요소가 올라오면 웨이트를 종료\n",
    "        EC.presence_of_element_located((By.CLASS_NAME, \"oTravelBox\"))\n",
    "    )\n",
    "    # 대기 시간 10초, 끝나면 10초 전이라도 실행함.\n",
    "except Exception as e:\n",
    "    print('오류 발생', e)\n",
    "\n",
    "# Implicit Wait: 일정한 시간을 기다린 후 실행\n",
    "# 암묵적 대기 => DOM이 다 로드될 때까지 대기하고 먼저 로드되면 바로 진행\n",
    "# driver = webdriver.Firefox()\n",
    "# driver.implicitly_wait(10) # seconds 10초를 기다리고 실행\n",
    "# driver.get(\"http://somedomain/url_that_delays_loading\")\n",
    "# myDynamicElement = driver.find_element_by_id(\"myDynamicElement\")\n",
    "# 요소를 찾을 특정 시간 동안 DOM풀림을 지시. 예를 들어 10초 이내라고 발견 되면 바로 진행(명시적과 공통 사항)\n",
    "driver.implicitly_wait(10) # 10초 대기\n",
    "# 절대적 대기 => time.sleep() 무조건 대기, -> 클라우드 페어(DDOS 방어 솔루션)\n",
    "# 이유는 ? 페이지가 변경되면 기다린다.(로드될 때까지 기다림. 평균 10초)\n",
    "# 6. 더 보기 누르기 => 게시판 진입\n"
   ]
  },
  {
   "cell_type": "code",
   "execution_count": 11,
   "id": "0b696407",
   "metadata": {},
   "outputs": [],
   "source": [
    "t1 = driver.find_element_by_css_selector('div.oTravelBox > ul.boxList > li.moreBtnWrap > button.moreBtn')"
   ]
  },
  {
   "cell_type": "code",
   "execution_count": 12,
   "id": "4976422a",
   "metadata": {},
   "outputs": [],
   "source": [
    "t1.click()"
   ]
  },
  {
   "cell_type": "code",
   "execution_count": 13,
   "id": "613e393a",
   "metadata": {},
   "outputs": [],
   "source": [
    "driver.execute_script(\"searchModule.SetCategoryList(2, '') \")"
   ]
  },
  {
   "cell_type": "code",
   "execution_count": 14,
   "id": "46c44665",
   "metadata": {},
   "outputs": [],
   "source": [
    "a41 = driver.find_element_by_css_selector('div.panelZone>div.oTravelBox> ul > li > div > div.title-row  h5.proTit')"
   ]
  },
  {
   "cell_type": "code",
   "execution_count": 15,
   "id": "7f4302d6",
   "metadata": {},
   "outputs": [],
   "source": [
    "a41.click() # "
   ]
  },
  {
   "cell_type": "code",
   "execution_count": 16,
   "id": "176133d6",
   "metadata": {},
   "outputs": [],
   "source": [
    "driver.switch_to.window(driver.window_handles[1])\n",
    "    # 상세 데이터 수집 생략...\n",
    "\n",
    "#     driver.close()"
   ]
  },
  {
   "cell_type": "code",
   "execution_count": 17,
   "id": "beaf4fcc",
   "metadata": {},
   "outputs": [],
   "source": [
    "dp1 = driver.find_element_by_css_selector('.swiper-wrapperz .swiper-slidez .photo .flag').text"
   ]
  },
  {
   "cell_type": "code",
   "execution_count": 18,
   "id": "dc940bc3",
   "metadata": {},
   "outputs": [
    {
     "data": {
      "text/plain": [
       "'우수'"
      ]
     },
     "execution_count": 18,
     "metadata": {},
     "output_type": "execute_result"
    }
   ],
   "source": [
    "dp1"
   ]
  },
  {
   "cell_type": "code",
   "execution_count": 19,
   "id": "3d806888",
   "metadata": {},
   "outputs": [],
   "source": [
    "driver.switch_to.window(driver.window_handles[0])\n",
    "# driver.close()"
   ]
  },
  {
   "cell_type": "code",
   "execution_count": 20,
   "id": "1bd0d02b",
   "metadata": {},
   "outputs": [
    {
     "ename": "NoSuchElementException",
     "evalue": "Message: no such element: Unable to locate element: {\"method\":\"css selector\",\"selector\":\"div.oTravelBox > ul.boxList > li.moreBtnWrap > button.moreBtn\"}\n  (Session info: chrome=92.0.4515.159)\n",
     "output_type": "error",
     "traceback": [
      "\u001b[1;31m---------------------------------------------------------------------------\u001b[0m",
      "\u001b[1;31mNoSuchElementException\u001b[0m                    Traceback (most recent call last)",
      "\u001b[1;32m<ipython-input-20-bb8c860bafc5>\u001b[0m in \u001b[0;36m<module>\u001b[1;34m\u001b[0m\n\u001b[1;32m----> 1\u001b[1;33m \u001b[0mdriver\u001b[0m\u001b[1;33m.\u001b[0m\u001b[0mfind_element_by_css_selector\u001b[0m\u001b[1;33m(\u001b[0m\u001b[1;34m'div.oTravelBox > ul.boxList > li.moreBtnWrap > button.moreBtn'\u001b[0m\u001b[1;33m)\u001b[0m\u001b[1;33m.\u001b[0m\u001b[0mclick\u001b[0m\u001b[1;33m(\u001b[0m\u001b[1;33m)\u001b[0m\u001b[1;33m\u001b[0m\u001b[1;33m\u001b[0m\u001b[0m\n\u001b[0m\u001b[0;32m      2\u001b[0m \u001b[1;33m\u001b[0m\u001b[0m\n\u001b[0;32m      3\u001b[0m \u001b[1;31m# 게시판에서 데이터를 가져올 때\u001b[0m\u001b[1;33m\u001b[0m\u001b[1;33m\u001b[0m\u001b[1;33m\u001b[0m\u001b[0m\n\u001b[0;32m      4\u001b[0m \u001b[1;31m# 데이터가 많으면 ㅔ션(혹시 로그린을 해서 접근되는 사이트일 경우) 관리\u001b[0m\u001b[1;33m\u001b[0m\u001b[1;33m\u001b[0m\u001b[1;33m\u001b[0m\u001b[0m\n\u001b[0;32m      5\u001b[0m \u001b[1;31m# 특정 단위별로 로그아웃 로그인을 게속 시도\u001b[0m\u001b[1;33m\u001b[0m\u001b[1;33m\u001b[0m\u001b[1;33m\u001b[0m\u001b[0m\n",
      "\u001b[1;32mc:\\users\\user\\appdata\\local\\programs\\python\\python39\\lib\\site-packages\\selenium\\webdriver\\remote\\webdriver.py\u001b[0m in \u001b[0;36mfind_element_by_css_selector\u001b[1;34m(self, css_selector)\u001b[0m\n\u001b[0;32m    596\u001b[0m             \u001b[0melement\u001b[0m \u001b[1;33m=\u001b[0m \u001b[0mdriver\u001b[0m\u001b[1;33m.\u001b[0m\u001b[0mfind_element_by_css_selector\u001b[0m\u001b[1;33m(\u001b[0m\u001b[1;34m'#foo'\u001b[0m\u001b[1;33m)\u001b[0m\u001b[1;33m\u001b[0m\u001b[1;33m\u001b[0m\u001b[0m\n\u001b[0;32m    597\u001b[0m         \"\"\"\n\u001b[1;32m--> 598\u001b[1;33m         \u001b[1;32mreturn\u001b[0m \u001b[0mself\u001b[0m\u001b[1;33m.\u001b[0m\u001b[0mfind_element\u001b[0m\u001b[1;33m(\u001b[0m\u001b[0mby\u001b[0m\u001b[1;33m=\u001b[0m\u001b[0mBy\u001b[0m\u001b[1;33m.\u001b[0m\u001b[0mCSS_SELECTOR\u001b[0m\u001b[1;33m,\u001b[0m \u001b[0mvalue\u001b[0m\u001b[1;33m=\u001b[0m\u001b[0mcss_selector\u001b[0m\u001b[1;33m)\u001b[0m\u001b[1;33m\u001b[0m\u001b[1;33m\u001b[0m\u001b[0m\n\u001b[0m\u001b[0;32m    599\u001b[0m \u001b[1;33m\u001b[0m\u001b[0m\n\u001b[0;32m    600\u001b[0m     \u001b[1;32mdef\u001b[0m \u001b[0mfind_elements_by_css_selector\u001b[0m\u001b[1;33m(\u001b[0m\u001b[0mself\u001b[0m\u001b[1;33m,\u001b[0m \u001b[0mcss_selector\u001b[0m\u001b[1;33m)\u001b[0m\u001b[1;33m:\u001b[0m\u001b[1;33m\u001b[0m\u001b[1;33m\u001b[0m\u001b[0m\n",
      "\u001b[1;32mc:\\users\\user\\appdata\\local\\programs\\python\\python39\\lib\\site-packages\\selenium\\webdriver\\remote\\webdriver.py\u001b[0m in \u001b[0;36mfind_element\u001b[1;34m(self, by, value)\u001b[0m\n\u001b[0;32m    974\u001b[0m                 \u001b[0mby\u001b[0m \u001b[1;33m=\u001b[0m \u001b[0mBy\u001b[0m\u001b[1;33m.\u001b[0m\u001b[0mCSS_SELECTOR\u001b[0m\u001b[1;33m\u001b[0m\u001b[1;33m\u001b[0m\u001b[0m\n\u001b[0;32m    975\u001b[0m                 \u001b[0mvalue\u001b[0m \u001b[1;33m=\u001b[0m \u001b[1;34m'[name=\"%s\"]'\u001b[0m \u001b[1;33m%\u001b[0m \u001b[0mvalue\u001b[0m\u001b[1;33m\u001b[0m\u001b[1;33m\u001b[0m\u001b[0m\n\u001b[1;32m--> 976\u001b[1;33m         return self.execute(Command.FIND_ELEMENT, {\n\u001b[0m\u001b[0;32m    977\u001b[0m             \u001b[1;34m'using'\u001b[0m\u001b[1;33m:\u001b[0m \u001b[0mby\u001b[0m\u001b[1;33m,\u001b[0m\u001b[1;33m\u001b[0m\u001b[1;33m\u001b[0m\u001b[0m\n\u001b[0;32m    978\u001b[0m             'value': value})['value']\n",
      "\u001b[1;32mc:\\users\\user\\appdata\\local\\programs\\python\\python39\\lib\\site-packages\\selenium\\webdriver\\remote\\webdriver.py\u001b[0m in \u001b[0;36mexecute\u001b[1;34m(self, driver_command, params)\u001b[0m\n\u001b[0;32m    319\u001b[0m         \u001b[0mresponse\u001b[0m \u001b[1;33m=\u001b[0m \u001b[0mself\u001b[0m\u001b[1;33m.\u001b[0m\u001b[0mcommand_executor\u001b[0m\u001b[1;33m.\u001b[0m\u001b[0mexecute\u001b[0m\u001b[1;33m(\u001b[0m\u001b[0mdriver_command\u001b[0m\u001b[1;33m,\u001b[0m \u001b[0mparams\u001b[0m\u001b[1;33m)\u001b[0m\u001b[1;33m\u001b[0m\u001b[1;33m\u001b[0m\u001b[0m\n\u001b[0;32m    320\u001b[0m         \u001b[1;32mif\u001b[0m \u001b[0mresponse\u001b[0m\u001b[1;33m:\u001b[0m\u001b[1;33m\u001b[0m\u001b[1;33m\u001b[0m\u001b[0m\n\u001b[1;32m--> 321\u001b[1;33m             \u001b[0mself\u001b[0m\u001b[1;33m.\u001b[0m\u001b[0merror_handler\u001b[0m\u001b[1;33m.\u001b[0m\u001b[0mcheck_response\u001b[0m\u001b[1;33m(\u001b[0m\u001b[0mresponse\u001b[0m\u001b[1;33m)\u001b[0m\u001b[1;33m\u001b[0m\u001b[1;33m\u001b[0m\u001b[0m\n\u001b[0m\u001b[0;32m    322\u001b[0m             response['value'] = self._unwrap_value(\n\u001b[0;32m    323\u001b[0m                 response.get('value', None))\n",
      "\u001b[1;32mc:\\users\\user\\appdata\\local\\programs\\python\\python39\\lib\\site-packages\\selenium\\webdriver\\remote\\errorhandler.py\u001b[0m in \u001b[0;36mcheck_response\u001b[1;34m(self, response)\u001b[0m\n\u001b[0;32m    240\u001b[0m                 \u001b[0malert_text\u001b[0m \u001b[1;33m=\u001b[0m \u001b[0mvalue\u001b[0m\u001b[1;33m[\u001b[0m\u001b[1;34m'alert'\u001b[0m\u001b[1;33m]\u001b[0m\u001b[1;33m.\u001b[0m\u001b[0mget\u001b[0m\u001b[1;33m(\u001b[0m\u001b[1;34m'text'\u001b[0m\u001b[1;33m)\u001b[0m\u001b[1;33m\u001b[0m\u001b[1;33m\u001b[0m\u001b[0m\n\u001b[0;32m    241\u001b[0m             \u001b[1;32mraise\u001b[0m \u001b[0mexception_class\u001b[0m\u001b[1;33m(\u001b[0m\u001b[0mmessage\u001b[0m\u001b[1;33m,\u001b[0m \u001b[0mscreen\u001b[0m\u001b[1;33m,\u001b[0m \u001b[0mstacktrace\u001b[0m\u001b[1;33m,\u001b[0m \u001b[0malert_text\u001b[0m\u001b[1;33m)\u001b[0m\u001b[1;33m\u001b[0m\u001b[1;33m\u001b[0m\u001b[0m\n\u001b[1;32m--> 242\u001b[1;33m         \u001b[1;32mraise\u001b[0m \u001b[0mexception_class\u001b[0m\u001b[1;33m(\u001b[0m\u001b[0mmessage\u001b[0m\u001b[1;33m,\u001b[0m \u001b[0mscreen\u001b[0m\u001b[1;33m,\u001b[0m \u001b[0mstacktrace\u001b[0m\u001b[1;33m)\u001b[0m\u001b[1;33m\u001b[0m\u001b[1;33m\u001b[0m\u001b[0m\n\u001b[0m\u001b[0;32m    243\u001b[0m \u001b[1;33m\u001b[0m\u001b[0m\n\u001b[0;32m    244\u001b[0m     \u001b[1;32mdef\u001b[0m \u001b[0m_value_or_default\u001b[0m\u001b[1;33m(\u001b[0m\u001b[0mself\u001b[0m\u001b[1;33m,\u001b[0m \u001b[0mobj\u001b[0m\u001b[1;33m,\u001b[0m \u001b[0mkey\u001b[0m\u001b[1;33m,\u001b[0m \u001b[0mdefault\u001b[0m\u001b[1;33m)\u001b[0m\u001b[1;33m:\u001b[0m\u001b[1;33m\u001b[0m\u001b[1;33m\u001b[0m\u001b[0m\n",
      "\u001b[1;31mNoSuchElementException\u001b[0m: Message: no such element: Unable to locate element: {\"method\":\"css selector\",\"selector\":\"div.oTravelBox > ul.boxList > li.moreBtnWrap > button.moreBtn\"}\n  (Session info: chrome=92.0.4515.159)\n"
     ]
    }
   ],
   "source": [
    "\n",
    "driver.find_element_by_css_selector('div.oTravelBox > ul.boxList > li.moreBtnWrap > button.moreBtn').click()\n",
    "\n",
    "# 게시판에서 데이터를 가져올 때\n",
    "# 데이터가 많으면 ㅔ션(혹시 로그린을 해서 접근되는 사이트일 경우) 관리\n",
    "# 특정 단위별로 로그아웃 로그인을 게속 시도\n",
    "# 특정 게시물이 사라질 경우 => 팝업 발생(없는글... 등) => 팝업 처리 검토 필요\n",
    "# 단, 로그인도 하지 않고, 수집 데이터가 많지 않을 때는 위의 경우는 나타나지 않음. (몇백개 정도는 문제 없음.)\n",
    "# 게시판을 스캔시 => 임계점을 모름!!\n",
    "# 게시판을 스캔을 하여 메타 정보(전체갯수)를 획득을 하여 loop를 돌려서 일괄적으로 방문 접근 처리\n",
    "# searchModule.SetCategoryList(1, '') 스크립트 실행 <= 웹페이지 검사에서 확인\n",
    "\n",
    "# 6+1은 임시 값, 게시물을 넘어갔을 때 현상을 확인차 추가함(현재는 6개까지 표시됨)\n",
    "import time\n",
    "numpage = 1 # 데스트를 위하여 7에서 임시로 1개만 갖고 테스트\n",
    "for page in range(1,1+numpage):\n",
    "    try:\n",
    "        # 자바 스크립트 구동하기\n",
    "        driver.execute_script(\"searchModule.SetCategoryList(%s, '') \" % page) # 실행될 때마다 페이지가 새로 발생함\n",
    "        time.sleep(2) # 강제로 2초씩 쉼. 페이지가 생길 때 사용되는 시간을 기다림.(명시적, 묵시적 방법도 사용할 수 있음)\n",
    "        print(\"%s 페이지 이동\" %page)\n",
    "        #################\n",
    "        # 여러사이트에서 정보를 수집할 경우, 공통정보 정의 단계 필요\n",
    "        # 상품명, 코멘트, 기간1, 기간2, 가격, 평점, 섬네일, 링크(상품상세정보)\n",
    "        boxItems = driver.find_elements_by_css_selector('div.oTravelBox>ul.boxList>li.boxItem') # elements 복수에 유의\n",
    "        # 상품 하나 하나 접근\n",
    "        for li in boxItems:\n",
    "            print('상품명: ',li.find_element_by_css_selector('.boxTables > div.title-row h5.proTit').text)\n",
    "            print('코멘트: ',li.find_element_by_css_selector('.boxTables > div.title-row p.proSub').text)\n",
    "            print('가격: ',li.find_element_by_css_selector('.boxTables > div.title-row strong.proPrice').text)\n",
    "            print('기간1: ', li.find_elements_by_css_selector('.boxTables > div.info-row > div > p.proInfo')[0].text)\n",
    "            print('기간2: ', li.find_elements_by_css_selector('.boxTables > div.info-row > div > p.proInfo')[1].text)\n",
    "            print('평점: ', li.find_element_by_css_selector('.boxTables > div.info-row > div > .proSpeacial ~p.proInfo').text)\n",
    "            print('섬네일: ', li.find_element_by_css_selector('a > img').get_attribute('src'))\n",
    "            print('링크: ', li.find_element_by_css_selector('a').get_attribute('onclick').split(\"'\")[1])\n",
    "            driver.implicitly_wait(10) # 10초 대기\n",
    "\n",
    "            print('---------------------------------------------')\n",
    "\n",
    "\n",
    "    except Exception as e1:\n",
    "        print(\"오류\", e1)\n"
   ]
  },
  {
   "cell_type": "code",
   "execution_count": null,
   "id": "729dcb96",
   "metadata": {},
   "outputs": [],
   "source": []
  }
 ],
 "metadata": {
  "kernelspec": {
   "display_name": "Python 3",
   "language": "python",
   "name": "python3"
  },
  "language_info": {
   "codemirror_mode": {
    "name": "ipython",
    "version": 3
   },
   "file_extension": ".py",
   "mimetype": "text/x-python",
   "name": "python",
   "nbconvert_exporter": "python",
   "pygments_lexer": "ipython3",
   "version": "3.9.1"
  }
 },
 "nbformat": 4,
 "nbformat_minor": 5
}
