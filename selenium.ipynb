{
 "cells": [
  {
   "cell_type": "code",
   "execution_count": 32,
   "id": "5f718765",
   "metadata": {},
   "outputs": [],
   "source": [
    "# selenium 모듈을 사용한다.\n",
    "from selenium import webdriver\n",
    "# driver를 읽어온다.\n",
    "driver = webdriver.Chrome('chromedriver.exe');"
   ]
  },
  {
   "cell_type": "code",
   "execution_count": 33,
   "id": "737f7796",
   "metadata": {},
   "outputs": [],
   "source": [
    "# 크롬 브라우저에 접속할 페이지를 설정한다.\n",
    "driver.get(\"https://nowonbun.tistory.com\");"
   ]
  },
  {
   "cell_type": "code",
   "execution_count": 34,
   "id": "f5886636",
   "metadata": {},
   "outputs": [],
   "source": [
    "# 대기 설정. (find로 객체를 찾을 때 검색이 되지 않으면 대기하는 시간 초단위)\n",
    "driver.implicitly_wait(2)"
   ]
  },
  {
   "cell_type": "code",
   "execution_count": 35,
   "id": "6778bc2a",
   "metadata": {},
   "outputs": [],
   "source": [
    "# xpath로 element를 찾는다. 이 xpath는 명월일지 블로그의 왼쪽 메뉴의 Dev note의 Javascript, Jquery, Css 카테고리다.\n",
    "element = driver.find_element_by_xpath('//*[@id=\"leftside\"]/div[2]/ul/li/ul/li[1]/ul/li[6]/a');"
   ]
  },
  {
   "cell_type": "code",
   "execution_count": 36,
   "id": "9efe9aaa",
   "metadata": {},
   "outputs": [],
   "source": [
    "# 클릭한다. 사실 클릭은 element.click인데 이게 호환성 에러가 발생할 경우가 있다. 그럴 경우, 스크립트로 클릭을 설정할 수 있다.\n",
    "driver.execute_script(\"arguments[0].click();\", element);"
   ]
  },
  {
   "cell_type": "code",
   "execution_count": 37,
   "id": "86d62978",
   "metadata": {},
   "outputs": [],
   "source": [
    "# css selector로 \"[Javascript] 팝업 라이브러리(bootbox)\"의 포스트를 찾는다. 찾은 때까지 무한 루프.\n",
    "while True:\n",
    "    try:\n",
    "        element = driver.find_element_by_css_selector(\"[href^='/626']\");\n",
    "        driver.execute_script(\"arguments[0].click();\", element);\n",
    "        break;\n",
    "    except:\n",
    "    # 검색된 페이지에 없으면 다음 페이지에서 검색한다.\n",
    "        element = driver.find_element_by_css_selector(\".paging li.active+li > a\");\n",
    "        driver.execute_script(\"arguments[0].click();\", element);"
   ]
  },
  {
   "cell_type": "code",
   "execution_count": 38,
   "id": "be2a804d",
   "metadata": {},
   "outputs": [],
   "source": [
    "# id가promptEx인 데이터를 찾는다.\n",
    "element = driver.find_element_by_xpath(\"//*[@id='promptEx']\");"
   ]
  },
  {
   "cell_type": "code",
   "execution_count": 39,
   "id": "c0c91a4f",
   "metadata": {},
   "outputs": [],
   "source": [
    "# 여기서는 click이 됩니다. 아마 버튼 계열은 click이 되는데 링크 계열은 스크립트 처리를 해야 하나 봅니다.\n",
    "element.click();"
   ]
  },
  {
   "cell_type": "code",
   "execution_count": 40,
   "id": "36977933",
   "metadata": {},
   "outputs": [],
   "source": [
    "# 팝업의 dom을 찾는다.\n",
    "element = driver.find_element_by_xpath(\"/html/body/div[6]/div/div/div[2]/div/form/input\");"
   ]
  },
  {
   "cell_type": "code",
   "execution_count": 41,
   "id": "34c4f8e5",
   "metadata": {},
   "outputs": [],
   "source": [
    "# input text에 test의 값을 넣는다.\n",
    "element.send_keys('test');"
   ]
  },
  {
   "cell_type": "code",
   "execution_count": 44,
   "id": "1993aa3b",
   "metadata": {},
   "outputs": [],
   "source": [
    "# 위와 같은 dom이다.\n",
    "element = driver.find_element_by_xpath(\"/html/body/div[6]/div/div/div[2]/div/form/input\");"
   ]
  },
  {
   "cell_type": "code",
   "execution_count": 45,
   "id": "18f7716c",
   "metadata": {},
   "outputs": [
    {
     "name": "stdout",
     "output_type": "stream",
     "text": [
      "test\n"
     ]
    }
   ],
   "source": [
    "# 속성 value값을 출력한다.\n",
    "print(element.get_attribute(\"value\"));"
   ]
  },
  {
   "cell_type": "code",
   "execution_count": 46,
   "id": "c699d994",
   "metadata": {},
   "outputs": [],
   "source": [
    "# .article의 글에 p 태그의 속성을 전부 가져온다.\n",
    "elements = driver.find_elements_by_css_selector(\".article p\");"
   ]
  },
  {
   "cell_type": "code",
   "execution_count": 47,
   "id": "8cb245fd",
   "metadata": {},
   "outputs": [
    {
     "name": "stdout",
     "output_type": "stream",
     "text": [
      "안녕하세요. 명월입니다.\n",
      "\n",
      "이 글은 Javascript의 팝업 라이브러리 bootbox에 대한 글입니다.\n",
      "\n",
      "이 전에 제가 팝업에 관한 라이브러리에 대한 글을 작성한 적이 있습니다.\n",
      "링크 - [Jquery] 다이얼로그 Dialog\n",
      "링크 - [Bootstrap] 모달 (Modal)\n",
      "\n",
      "Jquery 라이브러리의 dialog를 이용하는 방법이나 혹시 Bootstrap의 웹 디자인 템플릿을 사용한다고 한다면 Model의 라이브러리를 사용할 수 있습니다. 제 생각에는 이 라이브러리를 사용하는 것만으로도 충분하다고 생각하나 이 라이브러리를 사용하지 못하는 경우도 있을 수 있습니다.\n",
      "이미 화면 디자인이 완성된 프로젝트인데 Bootstrap를 넣으면 디자인이 바뀐다던가 Jquery UI Library를 사용하면 기존의 javascript와 충돌(함수 명 혹은 변수명이 같아서?)이 나는 경우는 사용하지 못할 수도 있습니다.\n",
      "그때 이용할 수 있는 라이브러리이지 않을까 싶습니다. 개인적으로는 간편해서 즐겨 사용합니다.\n",
      "링크 - http://bootboxjs.com\n",
      "예제\n",
      "처음에는 bootstrap과 jquery를 독립한 dialog를 생성하기 위한 줄 알았는데 결국은 jquery와 bootstrap이 필요하군요.\n",
      "dialog를 사용하기는 좀 많이 편해지기는 합니다만, 독립성이 없으니깐 무언가 많이 부족하네요.\n",
      "\n",
      "여기까지 Javascript의 팝업 라이브러리 bootbox에 관한 내용였습니다.\n",
      "\n",
      "궁금한 점이나 잘못된 점이 있으면 댓글 부탁드립니다.\n"
     ]
    }
   ],
   "source": [
    "# 출력한다.\n",
    "for element in elements:\n",
    "    print(element.text);"
   ]
  },
  {
   "cell_type": "code",
   "execution_count": 48,
   "id": "865e5e26",
   "metadata": {},
   "outputs": [],
   "source": [
    "# 브라우저를 닫는다.\n",
    "driver.close();"
   ]
  },
  {
   "cell_type": "code",
   "execution_count": 50,
   "id": "b8d3d7d2",
   "metadata": {},
   "outputs": [],
   "source": [
    "from selenium import webdriver\n",
    "driver = webdriver.Chrome('chromedriver.exe')\n",
    "driver.execute_script(\"alert('자바스크립트 코드 적용!!');\")"
   ]
  },
  {
   "cell_type": "code",
   "execution_count": null,
   "id": "98bd16e7",
   "metadata": {},
   "outputs": [],
   "source": []
  }
 ],
 "metadata": {
  "kernelspec": {
   "display_name": "Python 3",
   "language": "python",
   "name": "python3"
  },
  "language_info": {
   "codemirror_mode": {
    "name": "ipython",
    "version": 3
   },
   "file_extension": ".py",
   "mimetype": "text/x-python",
   "name": "python",
   "nbconvert_exporter": "python",
   "pygments_lexer": "ipython3",
   "version": "3.9.1"
  }
 },
 "nbformat": 4,
 "nbformat_minor": 5
}
